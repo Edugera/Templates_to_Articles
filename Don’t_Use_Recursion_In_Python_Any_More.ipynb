{
  "nbformat": 4,
  "nbformat_minor": 0,
  "metadata": {
    "colab": {
      "name": "Don’t Use Recursion In Python Any More.ipynb",
      "provenance": [],
      "collapsed_sections": [],
      "authorship_tag": "ABX9TyNvcGovfbJloblEnvJHPpwi",
      "include_colab_link": true
    },
    "kernelspec": {
      "name": "python3",
      "display_name": "Python 3"
    }
  },
  "cells": [
    {
      "cell_type": "markdown",
      "metadata": {
        "id": "view-in-github",
        "colab_type": "text"
      },
      "source": [
        "<a href=\"https://colab.research.google.com/github/Edugera/Templates_to_Articles/blob/main/Don%E2%80%99t_Use_Recursion_In_Python_Any_More.ipynb\" target=\"_parent\"><img src=\"https://colab.research.google.com/assets/colab-badge.svg\" alt=\"Open In Colab\"/></a>"
      ]
    },
    {
      "cell_type": "markdown",
      "metadata": {
        "id": "sZnaTgfGwcve"
      },
      "source": [
        "[Não use mais a recursão em Python](https://towardsdatascience.com/dont-use-recursion-in-python-any-more-918aad95094c)\n",
        "Fechamento Python - Uma técnica pitônica que você deve conhecer\n",
        "Christopher Tao\n",
        "\n",
        "Eu era um programador que gostava muito de funções recursivas antes, simplesmente porque é muito legal e pode ser usado para mostrar minhas habilidades de programação e inteligência. No entanto, na maioria das circunstâncias, as funções recursivas têm uma complexidade muito alta que devemos evitar usar.\n",
        "\n",
        "Uma das soluções muito melhores é usar o Planejamento Dinâmico quando possível, que provavelmente é a melhor maneira de resolver um problema que pode ser dividido em subproblemas. Um dos meus artigos anteriores ilustrou o poder do planejamento dinâmico.\n",
        "\n",
        "[Usando o planejamento dinâmico para ajudar Trump a vencer as eleições](https://towardsdatascience.com/using-dynamic-planning-to-help-trump-win-the-elections-7b5b34f63961)\n",
        "Planejamento dinâmico em Python para otimizar a promoção eleitoral\n",
        "paradatascience.com\n",
        "\n",
        "No entanto, neste artigo, vou apresentar outra técnica em Python que pode ser utilizada como alternativa à função recursiva. Não vai superar o planejamento dinâmico, mas muito mais fácil em termos de pensamento. Em outras palavras, às vezes podemos estar lutando para fazer o Planejamento Dinâmico funcionar por causa da abstração das ideias, mas será muito mais fácil usar o encerramento.\n",
        "\n",
        "#O que é o fechamento Python?\n",
        "\n",
        "Em primeiro lugar, deixe-me usar um exemplo simples para demonstrar o que é um encerramento em Python. Observe a função abaixo:\n",
        "\n",
        "  def outer ():\n",
        "      x = 1\n",
        "      def inner ():\n",
        "          imprimir (f'x na função externa: {x} ')\n",
        "      voltar para dentro\n",
        "\n",
        "A função externa é definida com outra função interna dentro de si mesma, e a função externa retorna a função interna como o “valor de retorno” da função.\n",
        "Nesse caso, a função aninhada é chamada de encerramento em Python. Se verificarmos o “valor de retorno” da função externa, descobriremos que o valor retornado é uma função.\n",
        "\n",
        "[Imagem para postagem](https://miro.medium.com/max/519/1*WCUHtpu2rEBYySkj2jVi0Q.png)\n",
        "\n"
      ]
    },
    {
      "cell_type": "code",
      "metadata": {
        "colab": {
          "base_uri": "https://localhost:8080/"
        },
        "id": "D4n60WHKwVSr",
        "outputId": "f6065d22-0078-44a1-d260-347f5ac85626"
      },
      "source": [
        "def outer():\n",
        "  x = 1\n",
        "  def inner():\n",
        "    print(f'x in outer function: {x}')\n",
        "  return inner\n",
        "\n",
        "outer  "
      ],
      "execution_count": 2,
      "outputs": [
        {
          "output_type": "execute_result",
          "data": {
            "text/plain": [
              "<function __main__.outer>"
            ]
          },
          "metadata": {
            "tags": []
          },
          "execution_count": 2
        }
      ]
    },
    {
      "cell_type": "markdown",
      "metadata": {
        "id": "oxFMD2rPyleL"
      },
      "source": [
        "O que o fechamento faz? Como ele retornou uma função, podemos executar essa função, é claro.\n",
        "\n",
        "[Imagem para postagem](https://miro.medium.com/max/259/1*xNm9mScPQMJ1MhSg273QWA.png)\n"
      ]
    },
    {
      "cell_type": "code",
      "metadata": {
        "colab": {
          "base_uri": "https://localhost:8080/"
        },
        "id": "9fgvBHBHzSCP",
        "outputId": "b8a2c414-6b21-40e9-e358-7a35ef8ed70b"
      },
      "source": [
        "outer()()"
      ],
      "execution_count": 3,
      "outputs": [
        {
          "output_type": "stream",
          "text": [
            "x in outer function: 1\n"
          ],
          "name": "stdout"
        }
      ]
    },
    {
      "cell_type": "markdown",
      "metadata": {
        "id": "fevL8BDgzS6K"
      },
      "source": [
        "OK, podemos ver que a função interna pode acessar variáveis ​​definidas na função externa. Normalmente, não usamos o fecho da forma mostrada acima, porque é meio feio. Normalmente queremos definir outra função para conter a função retornada pelo encerramento.\n",
        "\n",
        "[Imagem para postagem](https://miro.medium.com/max/277/1*k1yx5D8pCqsue7Vb6s8Osg.png)\n"
      ]
    },
    {
      "cell_type": "code",
      "metadata": {
        "colab": {
          "base_uri": "https://localhost:8080/"
        },
        "id": "VwLUzr1OzkoD",
        "outputId": "5614c4d5-b776-4250-8ad3-150f6afc5e18"
      },
      "source": [
        "f = outer()\n",
        "f()"
      ],
      "execution_count": 4,
      "outputs": [
        {
          "output_type": "stream",
          "text": [
            "x in outer function: 1\n"
          ],
          "name": "stdout"
        }
      ]
    },
    {
      "cell_type": "markdown",
      "metadata": {
        "id": "j0JBFPCnzlW-"
      },
      "source": [
        "Portanto, também podemos dizer que em um encerramento Python, definimos uma função que define funções.\n",
        "\n",
        "#Acessar variáveis ​​externas da função interna\n",
        "\n",
        "Como podemos usar um fechamento para substituir um recursivo então? Não tenha pressa. Vamos dar uma olhada em outro problema aqui, que é acessar variáveis ​​externas da função interna.\n",
        "\n",
        "def outer():\n",
        "    x = 1\n",
        "    def inner():\n",
        "        print(f'x in outer function (before modifying): {x}')\n",
        "        x += 1\n",
        "        print(f'x in outer function (after modifying): {x}')\n",
        "    return inner\n",
        "\n",
        "def outer ():\n",
        "    x = 1\n",
        "    def inner ():\n",
        "        imprimir (f'x na função externa (antes de modificar): {x} ')\n",
        "        x + = 1\n",
        "        imprimir (f'x na função externa (após modificar): {x} ')\n",
        "    voltar para dentro\n",
        "\n"
      ]
    },
    {
      "cell_type": "code",
      "metadata": {
        "colab": {
          "base_uri": "https://localhost:8080/"
        },
        "id": "wPlUeO5f0B3e",
        "outputId": "1e8b4bb6-e70b-4ccb-bb10-995f119bc4a5"
      },
      "source": [
        "def outer():\n",
        "  x = 1\n",
        "  def inner():\n",
        "    print(f'x in out function (before modifynig): {x} ')\n",
        "    x += 1\n",
        "    print(f'x in outer function (after modifying): {x}')\n",
        "  return inner\n",
        "\n",
        "outer"
      ],
      "execution_count": 5,
      "outputs": [
        {
          "output_type": "execute_result",
          "data": {
            "text/plain": [
              "<function __main__.outer>"
            ]
          },
          "metadata": {
            "tags": []
          },
          "execution_count": 5
        }
      ]
    },
    {
      "cell_type": "markdown",
      "metadata": {
        "id": "pDV6nbSs0CfX"
      },
      "source": [
        "No fechamento mostrado acima, queremos adicionar 1 à variável externa x na função interna. No entanto, isso não funcionará diretamente.\n",
        "\n",
        "[Imagem para postagem](https://miro.medium.com/max/674/1*YtdEYwPhTs3VDHSE63lnvA.png)\n"
      ]
    },
    {
      "cell_type": "code",
      "metadata": {
        "id": "c2RlLgDE03Im"
      },
      "source": [
        "def outer():\n",
        "  x = 1\n",
        "  def inner():\n",
        "    print(f'x in outer function (before modifying): {x}')\n",
        "    x ++ 1\n",
        "    print(f'x in outer function (after modifying): {x}')"
      ],
      "execution_count": 6,
      "outputs": []
    },
    {
      "cell_type": "code",
      "metadata": {
        "colab": {
          "base_uri": "https://localhost:8080/",
          "height": 177
        },
        "id": "A-2LGPOw1WfX",
        "outputId": "9bcb8409-2d3e-4b7e-cdc3-f99a42bdfd9f"
      },
      "source": [
        "f = outer()\n",
        "f()"
      ],
      "execution_count": 8,
      "outputs": [
        {
          "output_type": "error",
          "ename": "TypeError",
          "evalue": "ignored",
          "traceback": [
            "\u001b[0;31m---------------------------------------------------------------------------\u001b[0m",
            "\u001b[0;31mTypeError\u001b[0m                                 Traceback (most recent call last)",
            "\u001b[0;32m<ipython-input-8-db5e810f2a96>\u001b[0m in \u001b[0;36m<module>\u001b[0;34m()\u001b[0m\n\u001b[1;32m      1\u001b[0m \u001b[0mf\u001b[0m \u001b[0;34m=\u001b[0m \u001b[0mouter\u001b[0m\u001b[0;34m(\u001b[0m\u001b[0;34m)\u001b[0m\u001b[0;34m\u001b[0m\u001b[0;34m\u001b[0m\u001b[0m\n\u001b[0;32m----> 2\u001b[0;31m \u001b[0mf\u001b[0m\u001b[0;34m(\u001b[0m\u001b[0;34m)\u001b[0m\u001b[0;34m\u001b[0m\u001b[0;34m\u001b[0m\u001b[0m\n\u001b[0m",
            "\u001b[0;31mTypeError\u001b[0m: 'NoneType' object is not callable"
          ]
        }
      ]
    },
    {
      "cell_type": "markdown",
      "metadata": {
        "id": "s2W0CfsI0339"
      },
      "source": [
        "\n",
        "Por padrão, você não poderá acessar a variável externa da função interna. No entanto, assim como definimos uma variável global em Python, podemos dizer à função interna de uma closure que a variável não deve ser considerada como uma “variável local”, usando a palavra-chave não local.\n",
        "\n",
        "def outer():\n",
        "    x = 1\n",
        "    def inner():\n",
        "        nonlocal x\n",
        "        print(f'x in outer function (before modifying): {x}')\n",
        "        x += 1\n",
        "        print(f'x in outer function (after modifying): {x}')\n",
        "    return inner\n",
        "\n",
        "def outer ():\n",
        "    x = 1\n",
        "    def inner ():\n",
        "        não local x\n",
        "        imprimir (f'x na função externa (antes de modificar): {x} ')\n",
        "        x + = 1\n",
        "        imprimir (f'x na função externa (após modificar): {x} ')\n",
        "    voltar para dentro\n",
        "\n"
      ]
    },
    {
      "cell_type": "code",
      "metadata": {
        "id": "330E86a33lRZ"
      },
      "source": [
        "def outer():\n",
        "    x = 1\n",
        "    def inner():\n",
        "        nonlocal x\n",
        "        print (f'x in outer function (before modifying): {x}')\n",
        "        x += 1\n",
        "        print(f'x in outer function(after modifying): {x}')\n",
        "    return inner"
      ],
      "execution_count": 16,
      "outputs": []
    },
    {
      "cell_type": "markdown",
      "metadata": {
        "id": "5qouRubM3l5d"
      },
      "source": [
        "Agora, digamos que queremos adicionar a variável x por 1 por cinco vezes. Podemos simplesmente escrever um loop for para conseguir isso.\n",
        "\n",
        "*\n",
        "f = outer()\n",
        "for i in range(5):\n",
        "    print(f'Run {i+1}')\n",
        "    f()\n",
        "    print('\\n')\n",
        "    *\n",
        "\n",
        "f = externo ()\n",
        "para i no intervalo (5):\n",
        "    imprimir (f'Run {i + 1} ')\n",
        "    f ()\n",
        "    imprimir ('\\ n')\n",
        "\n",
        "[Imagem para postagem](https://miro.medium.com/max/393/1*9YWAhoejY9aaI7p_k1SCnQ.png)\n",
        "\n"
      ]
    },
    {
      "cell_type": "code",
      "metadata": {
        "colab": {
          "base_uri": "https://localhost:8080/"
        },
        "id": "LvNb1kT_5X_w",
        "outputId": "81ba1829-1c9d-4e10-f91d-8ef5188edf1c"
      },
      "source": [
        "f = outer()\n",
        "\n",
        "for i in range(5):\n",
        "    print(f'Run {i+1}')\n",
        "    f()\n",
        "    print('\\n')"
      ],
      "execution_count": 17,
      "outputs": [
        {
          "output_type": "stream",
          "text": [
            "Run 1\n",
            "x in outer function (before modifying): 1\n",
            "x in outer function(after modifying): 2\n",
            "\n",
            "\n",
            "Run 2\n",
            "x in outer function (before modifying): 2\n",
            "x in outer function(after modifying): 3\n",
            "\n",
            "\n",
            "Run 3\n",
            "x in outer function (before modifying): 3\n",
            "x in outer function(after modifying): 4\n",
            "\n",
            "\n",
            "Run 4\n",
            "x in outer function (before modifying): 4\n",
            "x in outer function(after modifying): 5\n",
            "\n",
            "\n",
            "Run 5\n",
            "x in outer function (before modifying): 5\n",
            "x in outer function(after modifying): 6\n",
            "\n",
            "\n"
          ],
          "name": "stdout"
        }
      ]
    },
    {
      "cell_type": "markdown",
      "metadata": {
        "id": "d4OZCYaI5Yxr"
      },
      "source": [
        "#Escreva uma função Fibonacci usando o fechamento\n",
        "\n",
        "Fibonacci é comumente usado como um exemplo de “hello world” de funções recursivas. Se você não se lembra, não se preocupe, é muito simples de ser explicado.\n",
        "\n",
        "Uma sequência de Fibonacci é uma série de números em que cada número é a soma dos dois números antes dele. Os primeiros dois números, X₀ e X₁, são especiais. Eles são 0 e 1, respectivamente. Como X₂, o padrão é como mencionado acima, é a soma de X₀ e X₁, então X₂ = 1. Então, X₃ é X₁ + X₂ = 2, X₄ é X₂ + X₃ = 3, X₅ é X₃ + X₄ = 5 e assim por diante.\n",
        "\n",
        "A função recursiva exige que pensemos inversamente do “cenário atual” para o “cenário anterior” e, eventualmente, quais são as condições finais. No entanto, ao usar o fechamento, podemos pensar sobre o problema de forma mais natural.\n",
        "\n",
        "Veja no código abaixo que a função Fibonacci é implementada usando um closure.\n",
        "\n",
        "*\n",
        "def fib ():\n",
        "    x1 = 0\n",
        "    x2 = 1\n",
        "    def get_next_number ():\n",
        "        não local x1, x2\n",
        "        x3 = x1 + x2\n",
        "        x1, x2 = x2, x3\n",
        "        retornar x3\n",
        "    return get_next_number\n",
        "*\n"
      ]
    },
    {
      "cell_type": "code",
      "metadata": {
        "id": "JyOCf7d66Vs2"
      },
      "source": [
        "def fib():\n",
        "    x1 = 0\n",
        "    x2 = 1\n",
        "    def get_next_number():\n",
        "        nonlocal x1, x2\n",
        "        x3 = x1 + x2\n",
        "        x1, x2 = x2 + x3\n",
        "        return x3\n",
        "    return get_next_number"
      ],
      "execution_count": 23,
      "outputs": []
    },
    {
      "cell_type": "markdown",
      "metadata": {
        "id": "9ivqMWjw6Wo9"
      },
      "source": [
        "\n",
        "Sabemos que o Fibonacci começa com dois números especiais X₀ = 0 e X₁ = 1, então simplesmente os definimos na função externa. Então, a função interna get_next_number é simplesmente retornar a soma dos dois números que obteve da função externa.\n",
        "\n",
        "Além disso, não se esqueça de atualizar X₀ e X₁ com X₁ e X₂. Na verdade, \n",
        "podemos simplificar o código:\n",
        "\n",
        "...\n",
        "x3 = x1 + x2\n",
        "x1, x2 = x2, x3\n",
        "return x3\n",
        "\n",
        "...\n",
        "x3 = x1 + x2\n",
        "x1, x2 = x2, x3\n",
        "retornar x3\n",
        "\n",
        "para\n",
        "\n",
        "x0, x1 = x1, x0 + x1\n",
        "return x1\n",
        "\n",
        "x0, x1 = x1, x0 + x1\n",
        "retornar x1\n"
      ]
    },
    {
      "cell_type": "code",
      "metadata": {
        "id": "7sLvbVoc9euu"
      },
      "source": [
        "def fib():\n",
        "    x0 = 0\n",
        "    x1 = 1\n",
        "    def get_next_number():\n",
        "        nonlocal x0, x1\n",
        "        x0, x1 = x1, x0 + x1\n",
        "        return x1\n",
        "    return get_next_number"
      ],
      "execution_count": 30,
      "outputs": []
    },
    {
      "cell_type": "markdown",
      "metadata": {
        "id": "9Qd1qTJ_9fUZ"
      },
      "source": [
        "\n",
        "Isso é atualizar as duas variáveis ​​primeiro e depois retornar a segunda, que é equivalente ao trecho de código anterior.\n",
        "\n",
        "Então, podemos usar este fechamento para calcular os números de Fibonacci. Por exemplo, queremos mostrar a sequência de Fibonacci até o 20º número.\n",
        "\n",
        "fibonacci = fib()\n",
        "for i in range(2, 21):\n",
        "    num = fibonacci()\n",
        "    print(f'The {i}th Fibonacci number is {num}')\n",
        "\n",
        "fibonacci = fib ()\n",
        "para i no intervalo (2, 21):\n",
        "    num = fibonacci ()\n",
        "    imprimir (f'O {i} o número Fibonacci é {num} ')\n",
        "\n",
        "[Imagem para postagem](https://miro.medium.com/max/461/1*MFdusHsGqPuFJkNLlJpR-w.png)\n",
        "\n"
      ]
    },
    {
      "cell_type": "code",
      "metadata": {
        "colab": {
          "base_uri": "https://localhost:8080/"
        },
        "id": "fTppVJOS8uYl",
        "outputId": "8840be77-4e0e-4c51-9837-1f78d7bbe1a8"
      },
      "source": [
        "fibonacci = fib()\n",
        "\n",
        "for i in range(2, 21):\n",
        "    num = fibonacci()\n",
        "    print(f'The {i}th fibonacci number is {num}')"
      ],
      "execution_count": 31,
      "outputs": [
        {
          "output_type": "stream",
          "text": [
            "The 2th fibonacci number is 1\n",
            "The 3th fibonacci number is 2\n",
            "The 4th fibonacci number is 3\n",
            "The 5th fibonacci number is 5\n",
            "The 6th fibonacci number is 8\n",
            "The 7th fibonacci number is 13\n",
            "The 8th fibonacci number is 21\n",
            "The 9th fibonacci number is 34\n",
            "The 10th fibonacci number is 55\n",
            "The 11th fibonacci number is 89\n",
            "The 12th fibonacci number is 144\n",
            "The 13th fibonacci number is 233\n",
            "The 14th fibonacci number is 377\n",
            "The 15th fibonacci number is 610\n",
            "The 16th fibonacci number is 987\n",
            "The 17th fibonacci number is 1597\n",
            "The 18th fibonacci number is 2584\n",
            "The 19th fibonacci number is 4181\n",
            "The 20th fibonacci number is 6765\n"
          ],
          "name": "stdout"
        }
      ]
    },
    {
      "cell_type": "markdown",
      "metadata": {
        "id": "7YffQny38vJ0"
      },
      "source": [
        "#Compare o desempenho\n",
        "\n",
        "Tudo bem, sabíamos que podemos usar o fechamento para substituir uma função recursiva na seção anterior. Que tal a performance? Vamos compará-los!\n",
        "\n",
        "Em primeiro lugar, vamos implementar a função Fibonacci usando uma função recursiva.\n",
        "\n",
        "def fib_recursion(n):\n",
        "    if n == 0:\n",
        "        return 0\n",
        "    elif n == 1:\n",
        "        return 1\n",
        "    else:\n",
        "        return fib_recursion(n-1) + fib_recursion(n-2)\n",
        "\n",
        "\n",
        "def fib_recursion (n):\n",
        "    se n == 0:\n",
        "        retorno 0\n",
        "    elif n == 1:\n",
        "        retorno 1\n",
        "    outro:\n",
        "        retornar fib_recursion (n-1) + fib_recursion (n-2)\n",
        "\n"
      ]
    },
    {
      "cell_type": "code",
      "metadata": {
        "id": "DPe_JCjK-0q3"
      },
      "source": [
        "def fib_recursion(n):\n",
        "    if n == 0:\n",
        "      return 0\n",
        "    elif n == 1:\n",
        "      return 1\n",
        "    else:\n",
        "      return fib_recursion(n-1) + fib_recursion(n-2)"
      ],
      "execution_count": 36,
      "outputs": []
    },
    {
      "cell_type": "markdown",
      "metadata": {
        "id": "aIhhSvlE-1aX"
      },
      "source": [
        "Podemos verificar a função gerando o 20º número da sequência de Fibonacci.\n",
        "\n",
        "[Imagem para postagem](https://miro.medium.com/max/250/1*2Rd5WEbX8MUFIJDH3Y9VEw.png)\n"
      ]
    },
    {
      "cell_type": "code",
      "metadata": {
        "colab": {
          "base_uri": "https://localhost:8080/"
        },
        "id": "3YN0Hccg_eW6",
        "outputId": "074d72fd-e5ca-4a7c-ebd6-9f76a5e17706"
      },
      "source": [
        "fib_recursion(20)"
      ],
      "execution_count": 37,
      "outputs": [
        {
          "output_type": "execute_result",
          "data": {
            "text/plain": [
              "6765"
            ]
          },
          "metadata": {
            "tags": []
          },
          "execution_count": 37
        }
      ]
    },
    {
      "cell_type": "markdown",
      "metadata": {
        "id": "ATMzntf4_fKC"
      },
      "source": [
        "\n",
        "Então, vamos incorporar a versão de encerramento em uma função para fins de comparação.\n",
        "\n",
        "def fib_closure (n):\n",
        "    f = fib ()\n",
        "    para i no intervalo (2, n + 1):\n",
        "        num = f ()\n",
        "    retornar num\n",
        "\n",
        "[Imagem para postagem](https://miro.medium.com/max/211/1*cgwyZ_RvQAC4LW1eob4a9g.png)\n"
      ]
    },
    {
      "cell_type": "markdown",
      "metadata": {
        "id": "eTG7bbwsEnUC"
      },
      "source": [
        "Agora, vamos comparar a velocidade.\n"
      ]
    },
    {
      "cell_type": "code",
      "metadata": {
        "colab": {
          "base_uri": "https://localhost:8080/"
        },
        "id": "F6bG-VO7D1JK",
        "outputId": "45ab7f2a-cae2-417f-a13d-dd216b4484a3"
      },
      "source": [
        "%timeit fib_recursion(20)"
      ],
      "execution_count": 40,
      "outputs": [
        {
          "output_type": "stream",
          "text": [
            "100 loops, best of 3: 2.69 ms per loop\n"
          ],
          "name": "stdout"
        }
      ]
    },
    {
      "cell_type": "code",
      "metadata": {
        "colab": {
          "base_uri": "https://localhost:8080/"
        },
        "id": "RpVVUIV3EcKo",
        "outputId": "8f2e2888-a2f5-4a32-cebd-abc9e0d3d512"
      },
      "source": [
        "%timeit fib_closure(20)"
      ],
      "execution_count": 41,
      "outputs": [
        {
          "output_type": "stream",
          "text": [
            "100000 loops, best of 3: 2.68 µs per loop\n"
          ],
          "name": "stdout"
        }
      ]
    },
    {
      "cell_type": "markdown",
      "metadata": {
        "id": "MP2ae45VD1xv"
      },
      "source": [
        "2,79ms v.s. 2,75 µs. O método de fechamento é 1000x mais rápido que o recursivo! A razão mais intuitiva é que todos os valores temporários para cada nível de recursão são armazenados na memória separadamente, mas o encerramento está, na verdade, atualizando as mesmas variáveis ​​em cada loop.\n",
        "\n",
        "Além disso, há uma limitação de profundidade para recursão. Para o fechamento, por ser basicamente um loop for, não haverá nenhuma restrição.\n",
        "\n",
        "Aqui está um exemplo de como obter o número 1000 de Fibonacci\n",
        "\n",
        "[Imagem para postagem](https://miro.medium.com/max/639/1*CP_jHym64CGhY5zob8Mf-Q.png)\n"
      ]
    },
    {
      "cell_type": "code",
      "metadata": {
        "colab": {
          "base_uri": "https://localhost:8080/",
          "height": 302
        },
        "id": "u-unlgjmE4t7",
        "outputId": "67eaedc9-b325-4140-819f-3f8338720a18"
      },
      "source": [
        "fib_recursion(1000)"
      ],
      "execution_count": 42,
      "outputs": [
        {
          "output_type": "error",
          "ename": "RecursionError",
          "evalue": "ignored",
          "traceback": [
            "\u001b[0;31m---------------------------------------------------------------------------\u001b[0m",
            "\u001b[0;31mRecursionError\u001b[0m                            Traceback (most recent call last)",
            "\u001b[0;32m<ipython-input-42-38347202fdf4>\u001b[0m in \u001b[0;36m<module>\u001b[0;34m()\u001b[0m\n\u001b[0;32m----> 1\u001b[0;31m \u001b[0mfib_recursion\u001b[0m\u001b[0;34m(\u001b[0m\u001b[0;36m1000\u001b[0m\u001b[0;34m)\u001b[0m\u001b[0;34m\u001b[0m\u001b[0;34m\u001b[0m\u001b[0m\n\u001b[0m",
            "\u001b[0;32m<ipython-input-36-f07b87c52495>\u001b[0m in \u001b[0;36mfib_recursion\u001b[0;34m(n)\u001b[0m\n\u001b[1;32m      5\u001b[0m       \u001b[0;32mreturn\u001b[0m \u001b[0;36m1\u001b[0m\u001b[0;34m\u001b[0m\u001b[0;34m\u001b[0m\u001b[0m\n\u001b[1;32m      6\u001b[0m     \u001b[0;32melse\u001b[0m\u001b[0;34m:\u001b[0m\u001b[0;34m\u001b[0m\u001b[0;34m\u001b[0m\u001b[0m\n\u001b[0;32m----> 7\u001b[0;31m       \u001b[0;32mreturn\u001b[0m \u001b[0mfib_recursion\u001b[0m\u001b[0;34m(\u001b[0m\u001b[0mn\u001b[0m\u001b[0;34m-\u001b[0m\u001b[0;36m1\u001b[0m\u001b[0;34m)\u001b[0m \u001b[0;34m+\u001b[0m \u001b[0mfib_recursion\u001b[0m\u001b[0;34m(\u001b[0m\u001b[0mn\u001b[0m\u001b[0;34m-\u001b[0m\u001b[0;36m2\u001b[0m\u001b[0;34m)\u001b[0m\u001b[0;34m\u001b[0m\u001b[0;34m\u001b[0m\u001b[0m\n\u001b[0m",
            "... last 1 frames repeated, from the frame below ...\n",
            "\u001b[0;32m<ipython-input-36-f07b87c52495>\u001b[0m in \u001b[0;36mfib_recursion\u001b[0;34m(n)\u001b[0m\n\u001b[1;32m      5\u001b[0m       \u001b[0;32mreturn\u001b[0m \u001b[0;36m1\u001b[0m\u001b[0;34m\u001b[0m\u001b[0;34m\u001b[0m\u001b[0m\n\u001b[1;32m      6\u001b[0m     \u001b[0;32melse\u001b[0m\u001b[0;34m:\u001b[0m\u001b[0;34m\u001b[0m\u001b[0;34m\u001b[0m\u001b[0m\n\u001b[0;32m----> 7\u001b[0;31m       \u001b[0;32mreturn\u001b[0m \u001b[0mfib_recursion\u001b[0m\u001b[0;34m(\u001b[0m\u001b[0mn\u001b[0m\u001b[0;34m-\u001b[0m\u001b[0;36m1\u001b[0m\u001b[0;34m)\u001b[0m \u001b[0;34m+\u001b[0m \u001b[0mfib_recursion\u001b[0m\u001b[0;34m(\u001b[0m\u001b[0mn\u001b[0m\u001b[0;34m-\u001b[0m\u001b[0;36m2\u001b[0m\u001b[0;34m)\u001b[0m\u001b[0;34m\u001b[0m\u001b[0;34m\u001b[0m\u001b[0m\n\u001b[0m",
            "\u001b[0;31mRecursionError\u001b[0m: maximum recursion depth exceeded in comparison"
          ]
        }
      ]
    },
    {
      "cell_type": "code",
      "metadata": {
        "colab": {
          "base_uri": "https://localhost:8080/"
        },
        "id": "FkRJ75weE_xg",
        "outputId": "afaf9dda-f453-46af-de76-7fa2964a3787"
      },
      "source": [
        "fib_closure(1000)"
      ],
      "execution_count": 43,
      "outputs": [
        {
          "output_type": "execute_result",
          "data": {
            "text/plain": [
              "43466557686937456435688527675040625802564660517371780402481729089536555417949051890403879840079255169295922593080322634775209689623239873322471161642996440906533187938298969649928516003704476137795166849228875"
            ]
          },
          "metadata": {
            "tags": []
          },
          "execution_count": 43
        }
      ]
    },
    {
      "cell_type": "markdown",
      "metadata": {
        "id": "hTE7DKWQE5Sv"
      },
      "source": [
        "\n",
        "Esse é realmente um número enorme, mas o método de fechamento pode terminar o cálculo em cerca de 100 µs, enquanto a função recursiva encontrou sua limitação.\n",
        "\n",
        "#Outros casos de uso de fechamento\n",
        "\n",
        "Os fechamentos do Python são muito úteis não apenas para substituir as funções recursivas. Em alguns casos, ele também pode substituir as classes Python por uma solução mais simples, especialmente se não houver muitos atributos e métodos em uma classe.\n",
        "\n",
        "Suponha que temos um dicionário de alunos com suas notas nos exames.\n",
        "\n",
        "students = {\n",
        "    'Alice': 98,\n",
        "    'Bob': 67,\n",
        "    'Chris': 85,\n",
        "    'David': 75,\n",
        "    'Ella': 54,\n",
        "    'Fiona': 35,\n",
        "    'Grace': 69\n",
        "}\n",
        "\n",
        "alunos = {\n",
        "    'Alice': 98,\n",
        "    'Bob': 67,\n",
        "    'Chris': 85,\n",
        "    'David': 75,\n",
        "    'Ella': 54,\n",
        "    'Fiona': 35,\n",
        "    'Grace': 69\n",
        "}\n",
        "\n"
      ]
    },
    {
      "cell_type": "code",
      "metadata": {
        "id": "-_zK1zUqGTz-"
      },
      "source": [
        "students = {\n",
        "    'Alice': 98,\n",
        "    'Bob': 67,\n",
        "    'Chris': 85,\n",
        "    'David': 75,\n",
        "    'Ella': 54,\n",
        "    'Fiona': 35,\n",
        "    'Grace': 69\n",
        "}"
      ],
      "execution_count": 47,
      "outputs": []
    },
    {
      "cell_type": "markdown",
      "metadata": {
        "id": "-au-vPyfGUct"
      },
      "source": [
        "Queremos ter várias funções que nos ajudem a filtrar os alunos por notas, para colocá-los em classes de séries diferentes. No entanto, os critérios podem mudar com o tempo. Nesse caso, podemos definir um fechamento Python da seguinte maneira:\n",
        "\n",
        "def make_student_classifier(lower_bound, upper_bound):\n",
        "    def classify_student(exam_dict):\n",
        "        return {k:v for (k,v) in exam_dict.items() if lower_bound <= v < upper_bound}\n",
        "    return classify_student\n",
        "\n",
        "def make_student_classifier (lower_bound, upper_bound):\n",
        "    def classify_student (exam_dict):\n",
        "        retorna {k: v para (k, v) em exame_dict.items () se limite_inferior <= v <limite_maior}\n",
        "    return classify_student\n",
        "\n"
      ]
    },
    {
      "cell_type": "code",
      "metadata": {
        "id": "2zhE-24xFjn9"
      },
      "source": [
        "def make_student_classifier(lower_bound, upper_bound):\n",
        "    def classify_student(exam_dict):\n",
        "        return {k:v for (k,v) in exam_dict.items() if lower_bound <= v < upper_bound}\n",
        "    return classify_student"
      ],
      "execution_count": 44,
      "outputs": []
    },
    {
      "cell_type": "markdown",
      "metadata": {
        "id": "VhnkrlZEFkYk"
      },
      "source": [
        "O encerramento define uma função que define outras funções com base nos parâmetros passados ​​dinamicamente. Vamos passar o limite inferior e o limite superior da classe da série, e o encerramento nos retornará uma função que faz isso.\n",
        "\n",
        "grade_A = make_student_classifier(80, 100)\n",
        "grade_B = make_student_classifier(70, 80)\n",
        "grade_C = make_student_classifier(50, 70)\n",
        "grade_D = make_student_classifier(0, 50)\n",
        "\n",
        "grau_A = make_student_classifier (80, 100)\n",
        "grade_B = make_student_classifier (70, 80)\n",
        "grade_C = make_student_classifier (50, 70)\n",
        "grade_D = make_student_classifier (0, 50)\n",
        "\n"
      ]
    },
    {
      "cell_type": "code",
      "metadata": {
        "id": "mkZlokXyFzHH"
      },
      "source": [
        "grade_A = make_student_classifier(80, 100)\n",
        "grade_B = make_student_classifier(70, 80)\n",
        "grade_C = make_student_classifier(50, 70)\n",
        "grade_D = make_student_classifier(0, 50)"
      ],
      "execution_count": 45,
      "outputs": []
    },
    {
      "cell_type": "markdown",
      "metadata": {
        "id": "nIl5K19uFz7_"
      },
      "source": [
        "O código acima nos dará 4 funções que classificarão o aluno nas classes de notas correspondentes com base nos limites que demos. Observe que podemos alterar o limite a qualquer momento para fazer outra função ou substituir as funções de grau atuais.\n",
        "\n",
        "Vamos verificar as funções agora.\n",
        "\n",
        "[Imagem para postagem](https://miro.medium.com/max/404/1*jOLfaechDiFOIyWHpy09bA.png)\n"
      ]
    },
    {
      "cell_type": "code",
      "metadata": {
        "colab": {
          "base_uri": "https://localhost:8080/"
        },
        "id": "lrXvy3kKGCnR",
        "outputId": "455bfd67-ffbc-4564-e2c2-2d6b7f3ad3e2"
      },
      "source": [
        "grade_A(students)"
      ],
      "execution_count": 48,
      "outputs": [
        {
          "output_type": "execute_result",
          "data": {
            "text/plain": [
              "{'Alice': 98, 'Chris': 85}"
            ]
          },
          "metadata": {
            "tags": []
          },
          "execution_count": 48
        }
      ]
    },
    {
      "cell_type": "code",
      "metadata": {
        "colab": {
          "base_uri": "https://localhost:8080/"
        },
        "id": "Hce_ZYw8Ge9p",
        "outputId": "f0b9e34a-efc6-4ad9-8c09-94aa1971b847"
      },
      "source": [
        "grade_B(students)"
      ],
      "execution_count": 49,
      "outputs": [
        {
          "output_type": "execute_result",
          "data": {
            "text/plain": [
              "{'David': 75}"
            ]
          },
          "metadata": {
            "tags": []
          },
          "execution_count": 49
        }
      ]
    },
    {
      "cell_type": "code",
      "metadata": {
        "colab": {
          "base_uri": "https://localhost:8080/"
        },
        "id": "coiUTIcQGkcx",
        "outputId": "b2754b6e-e6e4-428a-85e8-f97a102424ca"
      },
      "source": [
        "grade_C(students)"
      ],
      "execution_count": 50,
      "outputs": [
        {
          "output_type": "execute_result",
          "data": {
            "text/plain": [
              "{'Bob': 67, 'Ella': 54, 'Grace': 69}"
            ]
          },
          "metadata": {
            "tags": []
          },
          "execution_count": 50
        }
      ]
    },
    {
      "cell_type": "code",
      "metadata": {
        "colab": {
          "base_uri": "https://localhost:8080/"
        },
        "id": "GBq-px23Gn8P",
        "outputId": "f7f35fe8-5c24-4ff6-e227-6d65120821a9"
      },
      "source": [
        "grade_D(students)"
      ],
      "execution_count": 51,
      "outputs": [
        {
          "output_type": "execute_result",
          "data": {
            "text/plain": [
              "{'Fiona': 35}"
            ]
          },
          "metadata": {
            "tags": []
          },
          "execution_count": 51
        }
      ]
    },
    {
      "cell_type": "markdown",
      "metadata": {
        "id": "axgxxQYaGDko"
      },
      "source": [
        "\n",
        "Muito legal! Basta lembrar que ainda precisamos definir classes quando o caso for mais complexo.\n",
        "\n",
        "#Resumo\n",
        "\n",
        "Neste artigo, apresentei uma técnica chamada fechamento em Python. Ele pode ser utilizado para reescrever funções recursivas na maioria das circunstâncias e superar as últimas em grande medida.\n",
        "\n",
        "Na verdade, o fechamento pode não ser a melhor solução para alguns problemas do ponto de vista do desempenho, especialmente quando o planejamento dinâmico é aplicável. No entanto, é muito mais fácil de inventar. Às vezes, o planejamento dinâmico é um pouco exagerado quando não somos muito sensíveis ao desempenho, mas o fechamento pode ser bom o suficiente.\n",
        "\n",
        "O fechamento também pode ser usado para substituir alguns casos de uso que podemos querer definir uma classe para satisfazer. É muito mais limpo e elegante nesses casos.\n",
        "\n",
        "ESCRITO POR\n",
        "Christopher Tao\n",
        "Engenheiro de aprendizado de máquina @ AEMO | Arquiteto de soluções em nuvem | Engenheiro de dados | Cientista de dados | PhD em Ciência da Computação\n",
        "\n",
        "Respostas (4)\n",
        "Ofer Koren\n",
        "cerca de 23 horas atrás\n",
        "\n",
        "21\n",
        "Você basicamente escreveu a versão iterativa de Fibonacci (que é naturalmente mais performante), apenas mais complicada ...\n",
        "O comportamento que você obtém, de uma função que retorna o próximo valor com cada chamada, é melhor implementado usando um gerador Python:\n",
        "Halil Yıldırım\n",
        "Halil Yıldırım\n",
        "cerca de 2 horas atrás\n",
        "\n",
        "Clickbait. Existem muitos casos em que a recursão é a melhor solução.\n",
        "1\n",
        "\n",
        "walter zeni\n",
        "walter zeni\n",
        "cerca de 12 horas atrás\n",
        "\n",
        "O segundo exemplo pode ser melhor solucionador usando functools.partial!\n",
        "1\n",
        "\n",
        "Luca Di Gaspero\n",
        "Luca Di Gaspero\n",
        "à cerca de 3 horas atrás\n",
        "\n",
        "A função recursiva de Fibonacci conforme você a escreveu (ou seja, sem memoização) é conhecida por ter complexidade exponencial (é a solução da equação recursiva T (n) = T (n-1) + T (n-2) + O (1 ), que é O (1,68 ^ n)). Não vou generalizar que todas as funções recursivas terão desempenhos ruins.\n",
        "\n"
      ]
    }
  ]
}